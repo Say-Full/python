{
 "cells": [
  {
   "cell_type": "code",
   "execution_count": 8,
   "metadata": {},
   "outputs": [],
   "source": [
    "from PIL import Image\n",
    "import os\n",
    "\n",
    "image_path = os.path.join('Datasets', 'SEG2020', 'Labels', \"Inlines\")\n",
    "filenames = []\n",
    "for i in range(590):\n",
    "    filenames.append(os.path.join(image_path, str(i+1) + '.png'))\n",
    "\n",
    "images = [Image.open(filename) for filename in filenames]\n",
    "images[0].save('output/inline-label.gif', format='GIF', save_all=True, append_images=images[1:], optimize=False, duration=20, loop=0)"
   ]
  },
  {
   "cell_type": "code",
   "execution_count": 9,
   "metadata": {},
   "outputs": [],
   "source": [
    "from PIL import Image\n",
    "import os\n",
    "\n",
    "image_path = os.path.join('Datasets', 'SEG2020', 'Labels', \"Crosslines\")\n",
    "filenames = []\n",
    "for i in range(720):\n",
    "    filenames.append(os.path.join(image_path, str(i+1) + '.png'))\n",
    "\n",
    "images = [Image.open(filename) for filename in filenames]\n",
    "images[0].save('output/crossline-label.gif', format='GIF', save_all=True, append_images=images[1:], optimize=False, duration=25, loop=0)"
   ]
  },
  {
   "cell_type": "code",
   "execution_count": 15,
   "metadata": {},
   "outputs": [],
   "source": [
    "import imageio.v2 as imageio\n",
    "import os\n",
    "\n",
    "image_path = os.path.join('Datasets', 'SEG2020', 'Labels', \"Crosslines\")\n",
    "filenames = []\n",
    "for i in range(782):\n",
    "    filenames.append(os.path.join(image_path, str(i+1) + '.png'))\n",
    "\n",
    "images = []\n",
    "\n",
    "for filename in filenames:\n",
    "    images.append(imageio.imread(filename))\n",
    "\n",
    "imageio.mimsave('output/crossline-label.gif', images)"
   ]
  }
 ],
 "metadata": {
  "kernelspec": {
   "display_name": "seismic-env-kernel",
   "language": "python",
   "name": "seismic-env-kernel"
  },
  "language_info": {
   "codemirror_mode": {
    "name": "ipython",
    "version": 3
   },
   "file_extension": ".py",
   "mimetype": "text/x-python",
   "name": "python",
   "nbconvert_exporter": "python",
   "pygments_lexer": "ipython3",
   "version": "3.11.3"
  }
 },
 "nbformat": 4,
 "nbformat_minor": 2
}
